{
 "cells": [
  {
   "cell_type": "code",
   "execution_count": 1,
   "metadata": {
    "collapsed": false
   },
   "outputs": [],
   "source": [
    "from sympy import *\n",
    "\n",
    "tension_bottom = Symbol('T_b')\n",
    "K = Symbol('K')\n",
    "z = Symbol('z')\n",
    "L = Symbol('L')\n",
    "E,I = symbols('E I')\n",
    "tension = (tension_bottom + K*z)\n",
    "\n",
    "psi = Matrix([\n",
    "1 - 3 * (z/L)**2 + 2 * (z/L)**3,\n",
    "z * (1 - z/L)**2,\n",
    "3 * (z/L)**2 - 2 * (z/L)**3,\n",
    "z**2 / L * (z/L - 1)\n",
    "])\n",
    "\n",
    "psi_prime = diff(psi, z)\n",
    "\n",
    "psi_prime_prime = diff(psi, z, z)\n",
    "\n",
    "Kg_integal = psi_prime * psi_prime.T * tension\n",
    "K_integal = psi_prime_prime * psi_prime_prime.T *E *I\n",
    "\n",
    "Kg = integrate(Kg_integal, (z, 0, L))\n",
    "\n",
    "K = integrate( K_integal, (z, 0, L))"
   ]
  },
  {
   "cell_type": "code",
   "execution_count": 2,
   "metadata": {
    "collapsed": true
   },
   "outputs": [],
   "source": [
    "Kg = expand(Kg)\n",
    "K = expand(K)"
   ]
  },
  {
   "cell_type": "code",
   "execution_count": 3,
   "metadata": {
    "collapsed": true
   },
   "outputs": [],
   "source": [
    "init_printing()"
   ]
  },
  {
   "cell_type": "code",
   "execution_count": 4,
   "metadata": {
    "collapsed": false
   },
   "outputs": [
    {
     "data": {
      "image/png": "[encoded data removed]",
      "text/latex": [
       "$$\\left[\\begin{matrix}\\frac{3 K}{5} + \\frac{6 T_{b}}{5 L} & \\frac{K L}{10} + \\frac{T_{b}}{10} & - \\frac{3 K}{5} - \\frac{6 T_{b}}{5 L} & \\frac{T_{b}}{10}\\\\\\frac{K L}{10} + \\frac{T_{b}}{10} & \\frac{K L^{2}}{30} + \\frac{2 L}{15} T_{b} & - \\frac{K L}{10} - \\frac{T_{b}}{10} & - \\frac{K L^{2}}{60} - \\frac{L T_{b}}{30}\\\\- \\frac{3 K}{5} - \\frac{6 T_{b}}{5 L} & - \\frac{K L}{10} - \\frac{T_{b}}{10} & \\frac{3 K}{5} + \\frac{6 T_{b}}{5 L} & - \\frac{T_{b}}{10}\\\\\\frac{T_{b}}{10} & - \\frac{K L^{2}}{60} - \\frac{L T_{b}}{30} & - \\frac{T_{b}}{10} & \\frac{K L^{2}}{10} + \\frac{2 L}{15} T_{b}\\end{matrix}\\right]$$"
      ],
      "text/plain": [
       "⎡ 3⋅K   6⋅T_b     K⋅L   T_b       3⋅K   6⋅T_b       T_b      ⎤\n",
       "⎢ ─── + ─────     ─── + ───     - ─── - ─────       ───      ⎥\n",
       "⎢  5     5⋅L       10    10        5     5⋅L         10      ⎥\n",
       "⎢                                                            ⎥\n",
       "⎢                  2                                2        ⎥\n",
       "⎢  K⋅L   T_b    K⋅L    2⋅L⋅T_b     K⋅L   T_b     K⋅L    L⋅T_b⎥\n",
       "⎢  ─── + ───    ──── + ───────   - ─── - ───   - ──── - ─────⎥\n",
       "⎢   10    10     30       15        10    10      60      30 ⎥\n",
       "⎢                                                            ⎥\n",
       "⎢  3⋅K   6⋅T_b     K⋅L   T_b     3⋅K   6⋅T_b       -T_b      ⎥\n",
       "⎢- ─── - ─────   - ─── - ───     ─── + ─────       ─────     ⎥\n",
       "⎢   5     5⋅L       10    10      5     5⋅L          10      ⎥\n",
       "⎢                                                            ⎥\n",
       "⎢                    2                            2          ⎥\n",
       "⎢     T_b         K⋅L    L⋅T_b      -T_b       K⋅L    2⋅L⋅T_b⎥\n",
       "⎢     ───       - ──── - ─────      ─────      ──── + ───────⎥\n",
       "⎣      10          60      30         10        10       15  ⎦"
      ]
     },
     "execution_count": 4,
     "metadata": {},
     "output_type": "execute_result"
    }
   ],
   "source": [
    "Kg"
   ]
  },
  {
   "cell_type": "code",
   "execution_count": 5,
   "metadata": {
    "collapsed": false
   },
   "outputs": [
    {
     "data": {
      "image/png": "[encoded data removed]",
      "text/latex": [
       "$$\\left[\\begin{matrix}\\frac{12 E}{L^{3}} I & \\frac{6 E}{L^{2}} I & - \\frac{12 E}{L^{3}} I & \\frac{6 E}{L^{2}} I\\\\\\frac{6 E}{L^{2}} I & \\frac{4 E}{L} I & - \\frac{6 E}{L^{2}} I & \\frac{2 E}{L} I\\\\- \\frac{12 E}{L^{3}} I & - \\frac{6 E}{L^{2}} I & \\frac{12 E}{L^{3}} I & - \\frac{6 E}{L^{2}} I\\\\\\frac{6 E}{L^{2}} I & \\frac{2 E}{L} I & - \\frac{6 E}{L^{2}} I & \\frac{4 E}{L} I\\end{matrix}\\right]$$"
      ],
      "text/plain": [
       "⎡ 12⋅E⋅I    6⋅E⋅I   -12⋅E⋅I    6⋅E⋅I ⎤\n",
       "⎢ ──────    ─────   ────────   ───── ⎥\n",
       "⎢    3         2        3         2  ⎥\n",
       "⎢   L         L        L         L   ⎥\n",
       "⎢                                    ⎥\n",
       "⎢ 6⋅E⋅I     4⋅E⋅I   -6⋅E⋅I     2⋅E⋅I ⎥\n",
       "⎢ ─────     ─────   ───────    ───── ⎥\n",
       "⎢    2        L         2        L   ⎥\n",
       "⎢   L                  L             ⎥\n",
       "⎢                                    ⎥\n",
       "⎢-12⋅E⋅I   -6⋅E⋅I    12⋅E⋅I   -6⋅E⋅I ⎥\n",
       "⎢────────  ───────   ──────   ───────⎥\n",
       "⎢    3         2        3         2  ⎥\n",
       "⎢   L         L        L         L   ⎥\n",
       "⎢                                    ⎥\n",
       "⎢ 6⋅E⋅I     2⋅E⋅I   -6⋅E⋅I     4⋅E⋅I ⎥\n",
       "⎢ ─────     ─────   ───────    ───── ⎥\n",
       "⎢    2        L         2        L   ⎥\n",
       "⎣   L                  L             ⎦"
      ]
     },
     "execution_count": 5,
     "metadata": {},
     "output_type": "execute_result"
    }
   ],
   "source": [
    "K"
   ]
  },
  {
   "cell_type": "code",
   "execution_count": null,
   "metadata": {
    "collapsed": true
   },
   "outputs": [],
   "source": []
  }
 ],
 "metadata": {
  "kernelspec": {
   "display_name": "Python 3",
   "language": "python",
   "name": "python3"
  },
  "language_info": {
   "codemirror_mode": {
    "name": "ipython",
    "version": 3
   },
   "file_extension": ".py",
   "mimetype": "text/x-python",
   "name": "python",
   "nbconvert_exporter": "python",
   "pygments_lexer": "ipython3",
   "version": "3.4.3"
  }
 },
 "nbformat": 4,
 "nbformat_minor": 2
}
