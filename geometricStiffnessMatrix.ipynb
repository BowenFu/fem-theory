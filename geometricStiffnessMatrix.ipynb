{
 "cells": [
  {
   "cell_type": "code",
   "execution_count": 7,
   "metadata": {
    "collapsed": false
   },
   "outputs": [
    {
     "data": {
      "text/latex": [
       "      )"
      ],
      "text/plain": [
       "<IPython.core.display.Latex object>"
      ]
     },
     "metadata": {},
     "output_type": "display_data"
    }
   ],
   "source": [
    "%%latex expand(Kg\n",
    "      )\n"
   ]
  },
  {
   "cell_type": "code",
   "execution_count": 8,
   "metadata": {
    "collapsed": false
   },
   "outputs": [
    {
     "data": {
      "text/plain": [
       "Matrix([\n",
       "[ 3*K/5 + 6*T_b/(5*L),        K*L/10 + T_b/10, -3*K/5 - 6*T_b/(5*L),                 T_b/10],\n",
       "[     K*L/10 + T_b/10, K*L**2/30 + 2*L*T_b/15,     -K*L/10 - T_b/10,  -K*L**2/60 - L*T_b/30],\n",
       "[-3*K/5 - 6*T_b/(5*L),       -K*L/10 - T_b/10,  3*K/5 + 6*T_b/(5*L),                -T_b/10],\n",
       "[              T_b/10,  -K*L**2/60 - L*T_b/30,              -T_b/10, K*L**2/10 + 2*L*T_b/15]])"
      ]
     },
     "execution_count": 8,
     "metadata": {},
     "output_type": "execute_result"
    }
   ],
   "source": [
    "expand(Kg\n",
    "      )\n",
    "\n"
   ]
  },
  {
   "cell_type": "code",
   "execution_count": 9,
   "metadata": {
    "collapsed": false
   },
   "outputs": [
    {
     "data": {
      "text/latex": [
       "      )"
      ],
      "text/plain": [
       "<IPython.core.display.Latex object>"
      ]
     },
     "metadata": {},
     "output_type": "display_data"
    }
   ],
   "source": [
    "%%latex expand(Kg\n",
    "      )"
   ]
  },
  {
   "cell_type": "code",
   "execution_count": 1,
   "metadata": {
    "collapsed": false
   },
   "outputs": [
    {
     "name": "stdout",
     "output_type": "stream",
     "text": [
      "Matrix([\n",
      "[ 12*$T_b$/L + 6*K + (-18*$T_b$ + 9*K*L)/L + (36*$T_b$ - 72*K*L)/(5*L),                                                                                                        $T_b$/10 + K*L/10, -12*$T_b$/L - 6*K + (-36*$T_b$ + 72*K*L)/(5*L) + (18*$T_b$ - 9*K*L)/L,                                                                                           $T_b$/10],\n",
      "[                                                    $T_b$/10 + K*L/10, $T_b$*L + 3*K*L**2/2 + L*(-12*$T_b$ + 11*K*L)/2 + L*(-8*$T_b$ + K*L)/2 + L*(9*$T_b$ - 24*K*L)/5 + L*(22*$T_b$ - 8*K*L)/3,                                                    -$T_b$/10 - K*L/10, -$T_b$*L + 3*K*L**2/2 + L*(-18*$T_b$ + 11*K*L)/4 + L*(9*$T_b$ - 18*K*L)/5 + L*(11*$T_b$ - 2*K*L)/3],\n",
      "[-12*$T_b$/L - 6*K + (-36*$T_b$ + 72*K*L)/(5*L) + (18*$T_b$ - 9*K*L)/L,                                                                                                       -$T_b$/10 - K*L/10,  12*$T_b$/L + 6*K + (-18*$T_b$ + 9*K*L)/L + (36*$T_b$ - 72*K*L)/(5*L),                                                                                          -$T_b$/10],\n",
      "[                                                             $T_b$/10,                       -$T_b$*L + 3*K*L**2/2 + L*(-18*$T_b$ + 11*K*L)/4 + L*(9*$T_b$ - 18*K*L)/5 + L*(11*$T_b$ - 2*K*L)/3,                                                             -$T_b$/10,                             4*$T_b$*L/3 + 3*K*L**2/2 + L*(-3*$T_b$ + K*L) + L*(9*$T_b$ - 12*K*L)/5]])\n"
     ]
    }
   ],
   "source": [
    "from integrate import *"
   ]
  },
  {
   "cell_type": "code",
   "execution_count": 9,
   "metadata": {
    "collapsed": false
   },
   "outputs": [
    {
     "data": {
      "text/latex": [
       "(Kg\n",
       "       )"
      ],
      "text/plain": [
       "<IPython.core.display.Latex object>"
      ]
     },
     "metadata": {},
     "output_type": "display_data"
    }
   ],
   "source": [
    "%%latex\n",
    "(Kg\n",
    "       )"
   ]
  },
  {
   "cell_type": "code",
   "execution_count": 5,
   "metadata": {
    "collapsed": false
   },
   "outputs": [
    {
     "name": "stderr",
     "output_type": "stream",
     "text": [
      "UsageError: %%latex is a cell magic, but the cell body is empty.\n"
     ]
    }
   ],
   "source": [
    "%%latex print(Kg)"
   ]
  },
  {
   "cell_type": "code",
   "execution_count": 8,
   "metadata": {
    "collapsed": true
   },
   "outputs": [],
   "source": [
    "init_printing(Kg)"
   ]
  },
  {
   "cell_type": "code",
   "execution_count": 11,
   "metadata": {
    "collapsed": false
   },
   "outputs": [
    {
     "data": {
      "text/latex": [
       "expand(Kg)"
      ],
      "text/plain": [
       "<IPython.core.display.Latex object>"
      ]
     },
     "metadata": {},
     "output_type": "display_data"
    }
   ],
   "source": [
    "%%latex\n",
    "expand(Kg)"
   ]
  },
  {
   "cell_type": "code",
   "execution_count": 12,
   "metadata": {
    "collapsed": false
   },
   "outputs": [
    {
     "data": {
      "text/latex": [
       "$$\\left[\\begin{matrix}\\frac{12 $T_{b$}}{L} + 6 K + \\frac{1}{L} \\left(- 18 $T_{b$} + 9 K L\\right) + \\frac{1}{5 L} \\left(36 $T_{b$} - 72 K L\\right) & \\frac{$T_{b$}}{10} + \\frac{K L}{10} & - \\frac{12 $T_{b$}}{L} - 6 K + \\frac{1}{5 L} \\left(- 36 $T_{b$} + 72 K L\\right) + \\frac{1}{L} \\left(18 $T_{b$} - 9 K L\\right) & \\frac{$T_{b$}}{10}\\\\\\frac{$T_{b$}}{10} + \\frac{K L}{10} & $T_{b$} L + \\frac{3 K}{2} L^{2} + \\frac{L}{2} \\left(- 12 $T_{b$} + 11 K L\\right) + \\frac{L}{2} \\left(- 8 $T_{b$} + K L\\right) + \\frac{L}{5} \\left(9 $T_{b$} - 24 K L\\right) + \\frac{L}{3} \\left(22 $T_{b$} - 8 K L\\right) & - \\frac{$T_{b$}}{10} - \\frac{K L}{10} & - $T_{b$} L + \\frac{3 K}{2} L^{2} + \\frac{L}{4} \\left(- 18 $T_{b$} + 11 K L\\right) + \\frac{L}{5} \\left(9 $T_{b$} - 18 K L\\right) + \\frac{L}{3} \\left(11 $T_{b$} - 2 K L\\right)\\\\- \\frac{12 $T_{b$}}{L} - 6 K + \\frac{1}{5 L} \\left(- 36 $T_{b$} + 72 K L\\right) + \\frac{1}{L} \\left(18 $T_{b$} - 9 K L\\right) & - \\frac{$T_{b$}}{10} - \\frac{K L}{10} & \\frac{12 $T_{b$}}{L} + 6 K + \\frac{1}{L} \\left(- 18 $T_{b$} + 9 K L\\right) + \\frac{1}{5 L} \\left(36 $T_{b$} - 72 K L\\right) & - \\frac{$T_{b$}}{10}\\\\\\frac{$T_{b$}}{10} & - $T_{b$} L + \\frac{3 K}{2} L^{2} + \\frac{L}{4} \\left(- 18 $T_{b$} + 11 K L\\right) + \\frac{L}{5} \\left(9 $T_{b$} - 18 K L\\right) + \\frac{L}{3} \\left(11 $T_{b$} - 2 K L\\right) & - \\frac{$T_{b$}}{10} & \\frac{4 $T_{b$}}{3} L + \\frac{3 K}{2} L^{2} + L \\left(- 3 $T_{b$} + K L\\right) + \\frac{L}{5} \\left(9 $T_{b$} - 12 K L\\right)\\end{matrix}\\right]$$"
      ],
      "text/plain": [
       "⎡ 12⋅$T_b$         -18⋅$T_b$ + 9⋅K⋅L   36⋅$T_b$ - 72⋅K⋅L                      \n",
       "⎢ ──────── + 6⋅K + ───────────────── + ─────────────────                      \n",
       "⎢    L                     L                  5⋅L                             \n",
       "⎢                                                                             \n",
       "⎢                                                                         2   \n",
       "⎢                      $T_b$   K⋅L                                   3⋅K⋅L    \n",
       "⎢                      ───── + ───                         $T_b$⋅L + ────── + \n",
       "⎢                        10     10                                     2      \n",
       "⎢                                                                             \n",
       "⎢  12⋅$T_b$         -36⋅$T_b$ + 72⋅K⋅L   18⋅$T_b$ - 9⋅K⋅L                     \n",
       "⎢- ──────── - 6⋅K + ────────────────── + ────────────────                     \n",
       "⎢     L                    5⋅L                  L                             \n",
       "⎢                                                                             \n",
       "⎢                                                                             \n",
       "⎢                         $T_b$                                               \n",
       "⎢                         ─────                                      -$T_b$⋅L \n",
       "⎣                           10                                                \n",
       "\n",
       "                             $T_b$   K⋅L                                      \n",
       "                             ───── + ───                                      \n",
       "                               10     10                                      \n",
       "                                                                              \n",
       "                                                                              \n",
       "L⋅(-12⋅$T_b$ + 11⋅K⋅L)   L⋅(-8⋅$T_b$ + K⋅L)   L⋅(9⋅$T_b$ - 24⋅K⋅L)   L⋅(22⋅$T_\n",
       "────────────────────── + ────────────────── + ──────────────────── + ─────────\n",
       "          2                      2                     5                      \n",
       "                                                                              \n",
       "                              $T_b$   K⋅L                                     \n",
       "                            - ───── - ───                                     \n",
       "                                10     10                                     \n",
       "                                                                              \n",
       "       2                                                                      \n",
       "  3⋅K⋅L    L⋅(-18⋅$T_b$ + 11⋅K⋅L)   L⋅(9⋅$T_b$ - 18⋅K⋅L)   L⋅(11⋅$T_b$ - 2⋅K⋅L\n",
       "+ ────── + ────────────────────── + ──────────────────── + ───────────────────\n",
       "    2                4                       5                      3         \n",
       "\n",
       "               12⋅$T_b$         -36⋅$T_b$ + 72⋅K⋅L   18⋅$T_b$ - 9⋅K⋅L         \n",
       "             - ──────── - 6⋅K + ────────────────── + ────────────────         \n",
       "                  L                    5⋅L                  L                 \n",
       "                                                                              \n",
       "                                                                              \n",
       "b$ - 8⋅K⋅L)                         $T_b$   K⋅L                               \n",
       "───────────                       - ───── - ───                        -$T_b$⋅\n",
       "3                                     10     10                               \n",
       "                                                                              \n",
       "              12⋅$T_b$         -18⋅$T_b$ + 9⋅K⋅L   36⋅$T_b$ - 72⋅K⋅L          \n",
       "              ──────── + 6⋅K + ───────────────── + ─────────────────          \n",
       "                 L                     L                  5⋅L                 \n",
       "                                                                              \n",
       "                                                                              \n",
       ")                                    -$T_b$                                   \n",
       "─                                    ───────                                  \n",
       "                                        10                                    \n",
       "\n",
       "                                  $T_b$                                       \n",
       "                                  ─────                                       \n",
       "                                    10                                        \n",
       "                                                                              \n",
       "         2                                                                    \n",
       "    3⋅K⋅L    L⋅(-18⋅$T_b$ + 11⋅K⋅L)   L⋅(9⋅$T_b$ - 18⋅K⋅L)   L⋅(11⋅$T_b$ - 2⋅K\n",
       "L + ────── + ────────────────────── + ──────────────────── + ─────────────────\n",
       "      2                4                       5                      3       \n",
       "                                                                              \n",
       "                                 -$T_b$                                       \n",
       "                                 ───────                                      \n",
       "                                    10                                        \n",
       "                                                                              \n",
       "                       2                                                      \n",
       "      4⋅$T_b$⋅L   3⋅K⋅L                         L⋅(9⋅$T_b$ - 12⋅K⋅L)          \n",
       "      ───────── + ────── + L⋅(-3⋅$T_b$ + K⋅L) + ────────────────────          \n",
       "          3         2                                    5                    \n",
       "\n",
       "   ⎤\n",
       "   ⎥\n",
       "   ⎥\n",
       "   ⎥\n",
       "   ⎥\n",
       "⋅L)⎥\n",
       "───⎥\n",
       "   ⎥\n",
       "   ⎥\n",
       "   ⎥\n",
       "   ⎥\n",
       "   ⎥\n",
       "   ⎥\n",
       "   ⎥\n",
       "   ⎥\n",
       "   ⎥\n",
       "   ⎦"
      ]
     },
     "execution_count": 12,
     "metadata": {},
     "output_type": "execute_result"
    }
   ],
   "source": [
    "Kg"
   ]
  },
  {
   "cell_type": "code",
   "execution_count": 1,
   "metadata": {
    "collapsed": false,
    "scrolled": true
   },
   "outputs": [
    {
     "name": "stdout",
     "output_type": "stream",
     "text": [
      "Matrix([\n",
      "[ 6*K + 12*T_b/L + (-72*K*L + 36*T_b)/(5*L) + (9*K*L - 18*T_b)/L,                                                                                                K*L/10 + T_b/10, -6*K - 12*T_b/L + (-9*K*L + 18*T_b)/L + (72*K*L - 36*T_b)/(5*L),                                                                                     T_b/10],\n",
      "[                                                K*L/10 + T_b/10, 3*K*L**2/2 + L*T_b + L*(-24*K*L + 9*T_b)/5 + L*(-8*K*L + 22*T_b)/3 + L*(K*L - 8*T_b)/2 + L*(11*K*L - 12*T_b)/2,                                                -K*L/10 - T_b/10, 3*K*L**2/2 - L*T_b + L*(-18*K*L + 9*T_b)/5 + L*(-2*K*L + 11*T_b)/3 + L*(11*K*L - 18*T_b)/4],\n",
      "[-6*K - 12*T_b/L + (-9*K*L + 18*T_b)/L + (72*K*L - 36*T_b)/(5*L),                                                                                               -K*L/10 - T_b/10,  6*K + 12*T_b/L + (-72*K*L + 36*T_b)/(5*L) + (9*K*L - 18*T_b)/L,                                                                                    -T_b/10],\n",
      "[                                                         T_b/10,                     3*K*L**2/2 - L*T_b + L*(-18*K*L + 9*T_b)/5 + L*(-2*K*L + 11*T_b)/3 + L*(11*K*L - 18*T_b)/4,                                                         -T_b/10,                           3*K*L**2/2 + 4*L*T_b/3 + L*(-12*K*L + 9*T_b)/5 + L*(K*L - 3*T_b)]])\n"
     ]
    }
   ],
   "source": [
    "from integrate import *"
   ]
  },
  {
   "cell_type": "code",
   "execution_count": 5,
   "metadata": {
    "collapsed": false
   },
   "outputs": [
    {
     "data": {
      "text/latex": [
       "expand(Kg)"
      ],
      "text/plain": [
       "<IPython.core.display.Latex object>"
      ]
     },
     "metadata": {},
     "output_type": "display_data"
    }
   ],
   "source": [
    "%%latex \n",
    "expand(Kg)"
   ]
  },
  {
   "cell_type": "code",
   "execution_count": 4,
   "metadata": {
    "collapsed": true
   },
   "outputs": [],
   "source": [
    "init_printing(Kg)"
   ]
  },
  {
   "cell_type": "code",
   "execution_count": 6,
   "metadata": {
    "collapsed": false
   },
   "outputs": [
    {
     "data": {
      "text/latex": [
       "expand(Kg)"
      ],
      "text/plain": [
       "<IPython.core.display.Latex object>"
      ]
     },
     "metadata": {},
     "output_type": "display_data"
    }
   ],
   "source": [
    "%%latex\n",
    "expand(Kg)"
   ]
  },
  {
   "cell_type": "code",
   "execution_count": 13,
   "metadata": {
    "collapsed": false
   },
   "outputs": [
    {
     "data": {
      "image/png": "[encoded data removed]",
      "text/latex": [
       "$$\\left[\\begin{matrix}\\frac{3 K}{5} + \\frac{6 T_{b}}{5 L} & \\frac{K L}{10} + \\frac{T_{b}}{10} & - \\frac{3 K}{5} - \\frac{6 T_{b}}{5 L} & \\frac{T_{b}}{10}\\\\\\frac{K L}{10} + \\frac{T_{b}}{10} & \\frac{K L^{2}}{30} + \\frac{2 L}{15} T_{b} & - \\frac{K L}{10} - \\frac{T_{b}}{10} & - \\frac{K L^{2}}{60} - \\frac{L T_{b}}{30}\\\\- \\frac{3 K}{5} - \\frac{6 T_{b}}{5 L} & - \\frac{K L}{10} - \\frac{T_{b}}{10} & \\frac{3 K}{5} + \\frac{6 T_{b}}{5 L} & - \\frac{T_{b}}{10}\\\\\\frac{T_{b}}{10} & - \\frac{K L^{2}}{60} - \\frac{L T_{b}}{30} & - \\frac{T_{b}}{10} & \\frac{K L^{2}}{10} + \\frac{2 L}{15} T_{b}\\end{matrix}\\right]$$"
      ],
      "text/plain": [
       "⎡ 3⋅K   6⋅T_b     K⋅L   T_b       3⋅K   6⋅T_b       T_b      ⎤\n",
       "⎢ ─── + ─────     ─── + ───     - ─── - ─────       ───      ⎥\n",
       "⎢  5     5⋅L       10    10        5     5⋅L         10      ⎥\n",
       "⎢                                                            ⎥\n",
       "⎢                  2                                2        ⎥\n",
       "⎢  K⋅L   T_b    K⋅L    2⋅L⋅T_b     K⋅L   T_b     K⋅L    L⋅T_b⎥\n",
       "⎢  ─── + ───    ──── + ───────   - ─── - ───   - ──── - ─────⎥\n",
       "⎢   10    10     30       15        10    10      60      30 ⎥\n",
       "⎢                                                            ⎥\n",
       "⎢  3⋅K   6⋅T_b     K⋅L   T_b     3⋅K   6⋅T_b       -T_b      ⎥\n",
       "⎢- ─── - ─────   - ─── - ───     ─── + ─────       ─────     ⎥\n",
       "⎢   5     5⋅L       10    10      5     5⋅L          10      ⎥\n",
       "⎢                                                            ⎥\n",
       "⎢                    2                            2          ⎥\n",
       "⎢     T_b         K⋅L    L⋅T_b      -T_b       K⋅L    2⋅L⋅T_b⎥\n",
       "⎢     ───       - ──── - ─────      ─────      ──── + ───────⎥\n",
       "⎣      10          60      30         10        10       15  ⎦"
      ]
     },
     "execution_count": 13,
     "metadata": {},
     "output_type": "execute_result"
    }
   ],
   "source": [
    "Kg"
   ]
  },
  {
   "cell_type": "code",
   "execution_count": 11,
   "metadata": {
    "collapsed": false
   },
   "outputs": [
    {
     "data": {
      "image/png": "[encoded data removed]",
      "text/latex": [
       "$$\\left ( 4, \\quad 4\\right )$$"
      ],
      "text/plain": [
       "(4, 4)"
      ]
     },
     "execution_count": 11,
     "metadata": {},
     "output_type": "execute_result"
    }
   ],
   "source": [
    "Kg.shape"
   ]
  },
  {
   "cell_type": "code",
   "execution_count": 12,
   "metadata": {
    "collapsed": false
   },
   "outputs": [
    {
     "data": {
      "image/png": "[encoded data removed]",
      "text/latex": [
       "$$\\frac{3 K}{5} + \\frac{6 T_{b}}{5 L}$$"
      ],
      "text/plain": [
       "3⋅K   6⋅T_b\n",
       "─── + ─────\n",
       " 5     5⋅L "
      ]
     },
     "execution_count": 12,
     "metadata": {},
     "output_type": "execute_result"
    }
   ],
   "source": [
    "Kg[0,0]"
   ]
  },
  {
   "cell_type": "code",
   "execution_count": 10,
   "metadata": {
    "collapsed": true
   },
   "outputs": [],
   "source": [
    "Kg =expand(Kg)"
   ]
  },
  {
   "cell_type": "code",
   "execution_count": null,
   "metadata": {
    "collapsed": true
   },
   "outputs": [],
   "source": []
  }
 ],
 "metadata": {
  "kernelspec": {
   "display_name": "Python 3",
   "language": "python",
   "name": "python3"
  },
  "language_info": {
   "codemirror_mode": {
    "name": "ipython",
    "version": 3
   },
   "file_extension": ".py",
   "mimetype": "text/x-python",
   "name": "python",
   "nbconvert_exporter": "python",
   "pygments_lexer": "ipython3",
   "version": "3.4.3"
  }
 },
 "nbformat": 4,
 "nbformat_minor": 2
}
