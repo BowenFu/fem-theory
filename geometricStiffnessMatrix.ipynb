{
 "cells": [
  {
   "cell_type": "code",
   "execution_count": 1,
   "metadata": {
    "collapsed": true
   },
   "outputs": [],
   "source": [
    "from sympy import *\n",
    "\n",
    "tension_bottom = Symbol('T_b')\n",
    "K = Symbol('K')\n",
    "z = Symbol('z')\n",
    "L = Symbol('L')\n",
    "tension = (tension_bottom + K*z)\n",
    "\n",
    "psi = Matrix([\n",
    "1 - 3 * (z/L)**2 + 2 * (z/L)**3,\n",
    "z * (1 - z/L)**2,\n",
    "3 * (z/L)**2 - 2 * (z/L)**3,\n",
    "z**2 / L * (z/L - 1)\n",
    "])\n",
    "\n",
    "psi_prime = diff(psi, z)\n",
    "\n",
    "integal = psi_prime * psi_prime.T * tension\n",
    "\n",
    "Kg = integrate(integal, (z, 0, L))\n",
    "\n"
   ]
  },
  {
   "cell_type": "code",
   "execution_count": 2,
   "metadata": {
    "collapsed": true
   },
   "outputs": [],
   "source": [
    "Kg = expand(Kg)"
   ]
  },
  {
   "cell_type": "code",
   "execution_count": 3,
   "metadata": {
    "collapsed": true
   },
   "outputs": [],
   "source": [
    "init_printing()"
   ]
  },
  {
   "cell_type": "code",
   "execution_count": 4,
   "metadata": {
    "collapsed": false
   },
   "outputs": [
    {
     "data": {
      "image/png": "[encoded data removed]",
      "text/latex": [
       "$$\\left[\\begin{matrix}\\frac{3 K}{5} + \\frac{6 T_{b}}{5 L} & \\frac{K L}{10} + \\frac{T_{b}}{10} & - \\frac{3 K}{5} - \\frac{6 T_{b}}{5 L} & \\frac{T_{b}}{10}\\\\\\frac{K L}{10} + \\frac{T_{b}}{10} & \\frac{K L^{2}}{30} + \\frac{2 L}{15} T_{b} & - \\frac{K L}{10} - \\frac{T_{b}}{10} & - \\frac{K L^{2}}{60} - \\frac{L T_{b}}{30}\\\\- \\frac{3 K}{5} - \\frac{6 T_{b}}{5 L} & - \\frac{K L}{10} - \\frac{T_{b}}{10} & \\frac{3 K}{5} + \\frac{6 T_{b}}{5 L} & - \\frac{T_{b}}{10}\\\\\\frac{T_{b}}{10} & - \\frac{K L^{2}}{60} - \\frac{L T_{b}}{30} & - \\frac{T_{b}}{10} & \\frac{K L^{2}}{10} + \\frac{2 L}{15} T_{b}\\end{matrix}\\right]$$"
      ],
      "text/plain": [
       "⎡ 3⋅K   6⋅T_b     K⋅L   T_b       3⋅K   6⋅T_b       T_b      ⎤\n",
       "⎢ ─── + ─────     ─── + ───     - ─── - ─────       ───      ⎥\n",
       "⎢  5     5⋅L       10    10        5     5⋅L         10      ⎥\n",
       "⎢                                                            ⎥\n",
       "⎢                  2                                2        ⎥\n",
       "⎢  K⋅L   T_b    K⋅L    2⋅L⋅T_b     K⋅L   T_b     K⋅L    L⋅T_b⎥\n",
       "⎢  ─── + ───    ──── + ───────   - ─── - ───   - ──── - ─────⎥\n",
       "⎢   10    10     30       15        10    10      60      30 ⎥\n",
       "⎢                                                            ⎥\n",
       "⎢  3⋅K   6⋅T_b     K⋅L   T_b     3⋅K   6⋅T_b       -T_b      ⎥\n",
       "⎢- ─── - ─────   - ─── - ───     ─── + ─────       ─────     ⎥\n",
       "⎢   5     5⋅L       10    10      5     5⋅L          10      ⎥\n",
       "⎢                                                            ⎥\n",
       "⎢                    2                            2          ⎥\n",
       "⎢     T_b         K⋅L    L⋅T_b      -T_b       K⋅L    2⋅L⋅T_b⎥\n",
       "⎢     ───       - ──── - ─────      ─────      ──── + ───────⎥\n",
       "⎣      10          60      30         10        10       15  ⎦"
      ]
     },
     "execution_count": 4,
     "metadata": {},
     "output_type": "execute_result"
    }
   ],
   "source": [
    "Kg"
   ]
  },
  {
   "cell_type": "code",
   "execution_count": null,
   "metadata": {
    "collapsed": true
   },
   "outputs": [],
   "source": []
  }
 ],
 "metadata": {
  "kernelspec": {
   "display_name": "Python 3",
   "language": "python",
   "name": "python3"
  },
  "language_info": {
   "codemirror_mode": {
    "name": "ipython",
    "version": 3
   },
   "file_extension": ".py",
   "mimetype": "text/x-python",
   "name": "python",
   "nbconvert_exporter": "python",
   "pygments_lexer": "ipython3",
   "version": "3.4.3"
  }
 },
 "nbformat": 4,
 "nbformat_minor": 2
}
