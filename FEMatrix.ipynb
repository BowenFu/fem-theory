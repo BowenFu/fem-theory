{
 "cells": [
  {
   "cell_type": "markdown",
   "metadata": {
    "collapsed": true
   },
   "source": [
    "----------------------------\n",
    "Here are some sympy codes for calculating the element matrices of a beam in finite element method.\n",
    "-------------------------------"
   ]
  },
  {
   "cell_type": "code",
   "execution_count": 1,
   "metadata": {
    "collapsed": false
   },
   "outputs": [],
   "source": [
    "from sympy import *\n",
    "\n",
    "tension_bottom = Symbol('T_b')\n",
    "K = Symbol('K')\n",
    "z = Symbol('z')\n",
    "L = Symbol('L')\n",
    "E,I = symbols('E I')\n",
    "tension = (tension_bottom + K*z)\n",
    "linear_density = Symbol('m')\n",
    "loading = Symbol('p')\n",
    "\n",
    "shape_function = Matrix([\n",
    "1 - 3 * (z/L)**2 + 2 * (z/L)**3,\n",
    "z * (1 - z/L)**2,\n",
    "3 * (z/L)**2 - 2 * (z/L)**3,\n",
    "z**2 / L * (z/L - 1)\n",
    "])\n",
    "\n",
    "shape_function_derivation = diff(shape_function, z)\n",
    "\n",
    "shape_function_derivation_derivation = diff(shape_function, z, z)\n",
    "\n",
    "M_integral = linear_density * shape_function * shape_function.T\n",
    "\n",
    "K_integral = shape_function_derivation_derivation * shape_function_derivation_derivation.T *E *I\n",
    "\n",
    "Kg_integral = shape_function_derivation * shape_function_derivation.T * tension\n",
    "\n",
    "loading_integral = shape_function * loading\n",
    "\n",
    "M = integrate(M_integral, (z, 0, L))\n",
    "\n",
    "K = integrate( K_integral, (z, 0, L))\n",
    "\n",
    "Kg = integrate(Kg_integral, (z, 0, L))\n",
    "\n",
    "Loading = integrate(loading_integral, (z, 0, L))"
   ]
  },
  {
   "cell_type": "code",
   "execution_count": 2,
   "metadata": {
    "collapsed": true
   },
   "outputs": [],
   "source": [
    "M = expand(M)\n",
    "K = expand(K)\n",
    "Kg = expand(Kg)\n",
    "Loading = expand(Loading)"
   ]
  },
  {
   "cell_type": "code",
   "execution_count": 3,
   "metadata": {
    "collapsed": true
   },
   "outputs": [],
   "source": [
    "init_printing()"
   ]
  },
  {
   "cell_type": "code",
   "execution_count": 4,
   "metadata": {
    "collapsed": false,
    "scrolled": true
   },
   "outputs": [
    {
     "data": {
      "image/png": "[encoded data removed]",
      "text/latex": [
       "$$\\left[\\begin{matrix}\\frac{13 L}{35} m & \\frac{11 m}{210} L^{2} & \\frac{9 L}{70} m & - \\frac{13 m}{420} L^{2}\\\\\\frac{11 m}{210} L^{2} & \\frac{L^{3} m}{105} & \\frac{13 m}{420} L^{2} & - \\frac{L^{3} m}{140}\\\\\\frac{9 L}{70} m & \\frac{13 m}{420} L^{2} & \\frac{13 L}{35} m & - \\frac{11 m}{210} L^{2}\\\\- \\frac{13 m}{420} L^{2} & - \\frac{L^{3} m}{140} & - \\frac{11 m}{210} L^{2} & \\frac{L^{3} m}{105}\\end{matrix}\\right]$$"
      ],
      "text/plain": [
       "⎡               2                    2   ⎤\n",
       "⎢ 13⋅L⋅m    11⋅L ⋅m    9⋅L⋅m    -13⋅L ⋅m ⎥\n",
       "⎢ ──────    ───────    ─────    ─────────⎥\n",
       "⎢   35        210        70        420   ⎥\n",
       "⎢                                        ⎥\n",
       "⎢     2       3           2        3     ⎥\n",
       "⎢ 11⋅L ⋅m    L ⋅m     13⋅L ⋅m    -L ⋅m   ⎥\n",
       "⎢ ───────    ────     ───────    ──────  ⎥\n",
       "⎢   210      105        420       140    ⎥\n",
       "⎢                                        ⎥\n",
       "⎢               2                    2   ⎥\n",
       "⎢  9⋅L⋅m    13⋅L ⋅m   13⋅L⋅m    -11⋅L ⋅m ⎥\n",
       "⎢  ─────    ───────   ──────    ─────────⎥\n",
       "⎢    70       420       35         210   ⎥\n",
       "⎢                                        ⎥\n",
       "⎢     2       3           2        3     ⎥\n",
       "⎢-13⋅L ⋅m   -L ⋅m    -11⋅L ⋅m     L ⋅m   ⎥\n",
       "⎢─────────  ──────   ─────────    ────   ⎥\n",
       "⎣   420      140        210       105    ⎦"
      ]
     },
     "execution_count": 4,
     "metadata": {},
     "output_type": "execute_result"
    }
   ],
   "source": [
    "M"
   ]
  },
  {
   "cell_type": "code",
   "execution_count": 5,
   "metadata": {
    "collapsed": false,
    "scrolled": true
   },
   "outputs": [
    {
     "data": {
      "image/png": "[encoded data removed]",
      "text/latex": [
       "$$\\left[\\begin{matrix}\\frac{12 E}{L^{3}} I & \\frac{6 E}{L^{2}} I & - \\frac{12 E}{L^{3}} I & \\frac{6 E}{L^{2}} I\\\\\\frac{6 E}{L^{2}} I & \\frac{4 E}{L} I & - \\frac{6 E}{L^{2}} I & \\frac{2 E}{L} I\\\\- \\frac{12 E}{L^{3}} I & - \\frac{6 E}{L^{2}} I & \\frac{12 E}{L^{3}} I & - \\frac{6 E}{L^{2}} I\\\\\\frac{6 E}{L^{2}} I & \\frac{2 E}{L} I & - \\frac{6 E}{L^{2}} I & \\frac{4 E}{L} I\\end{matrix}\\right]$$"
      ],
      "text/plain": [
       "⎡ 12⋅E⋅I    6⋅E⋅I   -12⋅E⋅I    6⋅E⋅I ⎤\n",
       "⎢ ──────    ─────   ────────   ───── ⎥\n",
       "⎢    3         2        3         2  ⎥\n",
       "⎢   L         L        L         L   ⎥\n",
       "⎢                                    ⎥\n",
       "⎢ 6⋅E⋅I     4⋅E⋅I   -6⋅E⋅I     2⋅E⋅I ⎥\n",
       "⎢ ─────     ─────   ───────    ───── ⎥\n",
       "⎢    2        L         2        L   ⎥\n",
       "⎢   L                  L             ⎥\n",
       "⎢                                    ⎥\n",
       "⎢-12⋅E⋅I   -6⋅E⋅I    12⋅E⋅I   -6⋅E⋅I ⎥\n",
       "⎢────────  ───────   ──────   ───────⎥\n",
       "⎢    3         2        3         2  ⎥\n",
       "⎢   L         L        L         L   ⎥\n",
       "⎢                                    ⎥\n",
       "⎢ 6⋅E⋅I     2⋅E⋅I   -6⋅E⋅I     4⋅E⋅I ⎥\n",
       "⎢ ─────     ─────   ───────    ───── ⎥\n",
       "⎢    2        L         2        L   ⎥\n",
       "⎣   L                  L             ⎦"
      ]
     },
     "execution_count": 5,
     "metadata": {},
     "output_type": "execute_result"
    }
   ],
   "source": [
    "K"
   ]
  },
  {
   "cell_type": "code",
   "execution_count": 6,
   "metadata": {
    "collapsed": false
   },
   "outputs": [
    {
     "data": {
      "image/png": "[encoded data removed]",
      "text/latex": [
       "$$\\left[\\begin{matrix}\\frac{3 K}{5} + \\frac{6 T_{b}}{5 L} & \\frac{K L}{10} + \\frac{T_{b}}{10} & - \\frac{3 K}{5} - \\frac{6 T_{b}}{5 L} & \\frac{T_{b}}{10}\\\\\\frac{K L}{10} + \\frac{T_{b}}{10} & \\frac{K L^{2}}{30} + \\frac{2 L}{15} T_{b} & - \\frac{K L}{10} - \\frac{T_{b}}{10} & - \\frac{K L^{2}}{60} - \\frac{L T_{b}}{30}\\\\- \\frac{3 K}{5} - \\frac{6 T_{b}}{5 L} & - \\frac{K L}{10} - \\frac{T_{b}}{10} & \\frac{3 K}{5} + \\frac{6 T_{b}}{5 L} & - \\frac{T_{b}}{10}\\\\\\frac{T_{b}}{10} & - \\frac{K L^{2}}{60} - \\frac{L T_{b}}{30} & - \\frac{T_{b}}{10} & \\frac{K L^{2}}{10} + \\frac{2 L}{15} T_{b}\\end{matrix}\\right]$$"
      ],
      "text/plain": [
       "⎡ 3⋅K   6⋅T_b     K⋅L   T_b       3⋅K   6⋅T_b       T_b      ⎤\n",
       "⎢ ─── + ─────     ─── + ───     - ─── - ─────       ───      ⎥\n",
       "⎢  5     5⋅L       10    10        5     5⋅L         10      ⎥\n",
       "⎢                                                            ⎥\n",
       "⎢                  2                                2        ⎥\n",
       "⎢  K⋅L   T_b    K⋅L    2⋅L⋅T_b     K⋅L   T_b     K⋅L    L⋅T_b⎥\n",
       "⎢  ─── + ───    ──── + ───────   - ─── - ───   - ──── - ─────⎥\n",
       "⎢   10    10     30       15        10    10      60      30 ⎥\n",
       "⎢                                                            ⎥\n",
       "⎢  3⋅K   6⋅T_b     K⋅L   T_b     3⋅K   6⋅T_b       -T_b      ⎥\n",
       "⎢- ─── - ─────   - ─── - ───     ─── + ─────       ─────     ⎥\n",
       "⎢   5     5⋅L       10    10      5     5⋅L          10      ⎥\n",
       "⎢                                                            ⎥\n",
       "⎢                    2                            2          ⎥\n",
       "⎢     T_b         K⋅L    L⋅T_b      -T_b       K⋅L    2⋅L⋅T_b⎥\n",
       "⎢     ───       - ──── - ─────      ─────      ──── + ───────⎥\n",
       "⎣      10          60      30         10        10       15  ⎦"
      ]
     },
     "execution_count": 6,
     "metadata": {},
     "output_type": "execute_result"
    }
   ],
   "source": [
    "Kg"
   ]
  },
  {
   "cell_type": "code",
   "execution_count": 7,
   "metadata": {
    "collapsed": false
   },
   "outputs": [
    {
     "data": {
      "image/png": "[encoded data removed]",
      "text/latex": [
       "$$\\left[\\begin{matrix}\\frac{L p}{2}\\\\\\frac{L^{2} p}{12}\\\\\\frac{L p}{2}\\\\- \\frac{L^{2} p}{12}\\end{matrix}\\right]$$"
      ],
      "text/plain": [
       "⎡ L⋅p  ⎤\n",
       "⎢ ───  ⎥\n",
       "⎢  2   ⎥\n",
       "⎢      ⎥\n",
       "⎢  2   ⎥\n",
       "⎢ L ⋅p ⎥\n",
       "⎢ ──── ⎥\n",
       "⎢  12  ⎥\n",
       "⎢      ⎥\n",
       "⎢ L⋅p  ⎥\n",
       "⎢ ───  ⎥\n",
       "⎢  2   ⎥\n",
       "⎢      ⎥\n",
       "⎢  2   ⎥\n",
       "⎢-L ⋅p ⎥\n",
       "⎢──────⎥\n",
       "⎣  12  ⎦"
      ]
     },
     "execution_count": 7,
     "metadata": {},
     "output_type": "execute_result"
    }
   ],
   "source": [
    "Loading"
   ]
  },
  {
   "cell_type": "code",
   "execution_count": null,
   "metadata": {
    "collapsed": true
   },
   "outputs": [],
   "source": []
  }
 ],
 "metadata": {
  "kernelspec": {
   "display_name": "Python 3",
   "language": "python",
   "name": "python3"
  },
  "language_info": {
   "codemirror_mode": {
    "name": "ipython",
    "version": 3
   },
   "file_extension": ".py",
   "mimetype": "text/x-python",
   "name": "python",
   "nbconvert_exporter": "python",
   "pygments_lexer": "ipython3",
   "version": "3.4.3"
  }
 },
 "nbformat": 4,
 "nbformat_minor": 2
}
